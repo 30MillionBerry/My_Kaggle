{
  "nbformat": 4,
  "nbformat_minor": 0,
  "metadata": {
    "colab": {
      "name": "Aerial_Cactus_Identification_Step3.ipynb",
      "provenance": [],
      "collapsed_sections": [],
      "authorship_tag": "ABX9TyMY5CrQ+Yjdml9G9QRJBSLS",
      "include_colab_link": true
    },
    "kernelspec": {
      "name": "python3",
      "display_name": "Python 3"
    },
    "language_info": {
      "name": "python"
    },
    "accelerator": "GPU",
    "gpuClass": "standard"
  },
  "cells": [
    {
      "cell_type": "markdown",
      "metadata": {
        "id": "view-in-github",
        "colab_type": "text"
      },
      "source": [
        "<a href=\"https://colab.research.google.com/github/mohyunyang/My_Kaggle/blob/main/Aerial_Cactus_Identification_Step3.ipynb\" target=\"_parent\"><img src=\"https://colab.research.google.com/assets/colab-badge.svg\" alt=\"Open In Colab\"/></a>"
      ]
    },
    {
      "cell_type": "markdown",
      "source": [
        "> 시드값고정"
      ],
      "metadata": {
        "id": "Yr1bu0ljJISg"
      }
    },
    {
      "cell_type": "code",
      "source": [
        "import torch # 파이토치 \n",
        "import random\n",
        "import numpy as np\n",
        "import os\n",
        "\n",
        "# 시드값 고정\n",
        "seed = 50\n",
        "os.environ['PYTHONHASHSEED'] = str(seed)\n",
        "random.seed(seed)                # 파이썬 난수 생성기 시드 고정\n",
        "np.random.seed(seed)             # 넘파이 난수 생성기 시드 고정\n",
        "torch.manual_seed(seed)          # 파이토치 난수 생성기 시드 고정 (CPU 사용 시)\n",
        "torch.cuda.manual_seed(seed)     # 파이토치 난수 생성기 시드 고정 (GPU 사용 시)\n",
        "torch.cuda.manual_seed_all(seed) # 파이토치 난수 생성기 시드 고정 (멀티GPU 사용 시)\n",
        "torch.backends.cudnn.deterministic = True # 확정적 연산 사용\n",
        "torch.backends.cudnn.benchmark = False    # 벤치마크 기능 해제\n",
        "torch.backends.cudnn.enabled = False      # cudnn 사용 해제"
      ],
      "metadata": {
        "id": "LPEmFQhXKv9k"
      },
      "execution_count": null,
      "outputs": []
    },
    {
      "cell_type": "markdown",
      "source": [
        "> 장비설정"
      ],
      "metadata": {
        "id": "B4gqN7IQKzDM"
      }
    },
    {
      "cell_type": "code",
      "source": [
        "if torch.cuda.is_available():\n",
        "    device = torch.device('cuda')\n",
        "else:\n",
        "    device = torch.device('cpu')"
      ],
      "metadata": {
        "id": "U8zPTt_4Kx5P"
      },
      "execution_count": null,
      "outputs": []
    },
    {
      "cell_type": "code",
      "source": [
        "device"
      ],
      "metadata": {
        "colab": {
          "base_uri": "https://localhost:8080/"
        },
        "id": "PoEO5jaeK1TN",
        "outputId": "bf0d5133-b1c4-49be-975f-e87c3427b835"
      },
      "execution_count": null,
      "outputs": [
        {
          "output_type": "execute_result",
          "data": {
            "text/plain": [
              "device(type='cuda')"
            ]
          },
          "metadata": {},
          "execution_count": 51
        }
      ]
    },
    {
      "cell_type": "markdown",
      "source": [
        "> 데이터준비"
      ],
      "metadata": {
        "id": "J54Li7lUK4zF"
      }
    },
    {
      "cell_type": "code",
      "source": [
        "! pip install kaggle\n",
        "from google.colab import files\n",
        "files.upload()"
      ],
      "metadata": {
        "colab": {
          "resources": {
            "http://localhost:8080/nbextensions/google.colab/files.js": {
              "data": "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",
              "ok": true,
              "headers": [
                [
                  "content-type",
                  "application/javascript"
                ]
              ],
              "status": 200,
              "status_text": ""
            }
          },
          "base_uri": "https://localhost:8080/",
          "height": 316
        },
        "id": "-w1LR7JdK6d-",
        "outputId": "935dad87-41e5-4883-8bf2-8294273bc1cf"
      },
      "execution_count": null,
      "outputs": [
        {
          "output_type": "stream",
          "name": "stdout",
          "text": [
            "Looking in indexes: https://pypi.org/simple, https://us-python.pkg.dev/colab-wheels/public/simple/\n",
            "Requirement already satisfied: kaggle in /usr/local/lib/python3.7/dist-packages (1.5.12)\n",
            "Requirement already satisfied: python-slugify in /usr/local/lib/python3.7/dist-packages (from kaggle) (6.1.2)\n",
            "Requirement already satisfied: tqdm in /usr/local/lib/python3.7/dist-packages (from kaggle) (4.64.0)\n",
            "Requirement already satisfied: urllib3 in /usr/local/lib/python3.7/dist-packages (from kaggle) (1.24.3)\n",
            "Requirement already satisfied: python-dateutil in /usr/local/lib/python3.7/dist-packages (from kaggle) (2.8.2)\n",
            "Requirement already satisfied: certifi in /usr/local/lib/python3.7/dist-packages (from kaggle) (2022.6.15)\n",
            "Requirement already satisfied: six>=1.10 in /usr/local/lib/python3.7/dist-packages (from kaggle) (1.15.0)\n",
            "Requirement already satisfied: requests in /usr/local/lib/python3.7/dist-packages (from kaggle) (2.23.0)\n",
            "Requirement already satisfied: text-unidecode>=1.3 in /usr/local/lib/python3.7/dist-packages (from python-slugify->kaggle) (1.3)\n",
            "Requirement already satisfied: chardet<4,>=3.0.2 in /usr/local/lib/python3.7/dist-packages (from requests->kaggle) (3.0.4)\n",
            "Requirement already satisfied: idna<3,>=2.5 in /usr/local/lib/python3.7/dist-packages (from requests->kaggle) (2.10)\n"
          ]
        },
        {
          "output_type": "display_data",
          "data": {
            "text/plain": [
              "<IPython.core.display.HTML object>"
            ],
            "text/html": [
              "\n",
              "     <input type=\"file\" id=\"files-5b9de0b5-ad7d-439b-a6e9-2f17054c4ef2\" name=\"files[]\" multiple disabled\n",
              "        style=\"border:none\" />\n",
              "     <output id=\"result-5b9de0b5-ad7d-439b-a6e9-2f17054c4ef2\">\n",
              "      Upload widget is only available when the cell has been executed in the\n",
              "      current browser session. Please rerun this cell to enable.\n",
              "      </output>\n",
              "      <script src=\"/nbextensions/google.colab/files.js\"></script> "
            ]
          },
          "metadata": {}
        },
        {
          "output_type": "stream",
          "name": "stdout",
          "text": [
            "Saving kaggle.json to kaggle (2).json\n"
          ]
        },
        {
          "output_type": "execute_result",
          "data": {
            "text/plain": [
              "{'kaggle.json': b'{\"username\":\"yhyunmo\",\"key\":\"8fdb7bbf0193b24d0178986819fcf478\"}'}"
            ]
          },
          "metadata": {},
          "execution_count": 52
        }
      ]
    },
    {
      "cell_type": "code",
      "source": [
        "!chmod 600 ~/.kaggle/kaggle.json\n",
        "!mkdir -p ~/.kaggle\n",
        "!cp kaggle.json ~/.kaggle/\n",
        "! kaggle competitions download -c aerial-cactus-identification\n",
        "! ls\n",
        "! unzip aerial-cactus-identification.zip"
      ],
      "metadata": {
        "colab": {
          "base_uri": "https://localhost:8080/"
        },
        "id": "0c_scTtWLB1a",
        "outputId": "fe0c2b26-0035-40bc-fbc0-1e0b86889128"
      },
      "execution_count": null,
      "outputs": [
        {
          "output_type": "stream",
          "name": "stdout",
          "text": [
            "aerial-cactus-identification.zip: Skipping, found more recently modified local copy (use --force to force download)\n",
            " aerial-cactus-identification.zip   sample_data\t\t    train\n",
            "'kaggle (1).json'\t\t    sample_submission.csv   train.csv\n",
            "'kaggle (2).json'\t\t    test\t\t    train.zip\n",
            " kaggle.json\t\t\t    test.zip\n",
            "Archive:  aerial-cactus-identification.zip\n",
            "replace sample_submission.csv? [y]es, [n]o, [A]ll, [N]one, [r]ename: n\n",
            "replace test.zip? [y]es, [n]o, [A]ll, [N]one, [r]ename: n\n",
            "replace train.csv? [y]es, [n]o, [A]ll, [N]one, [r]ename: n\n",
            "replace train.zip? [y]es, [n]o, [A]ll, [N]one, [r]ename: n\n"
          ]
        }
      ]
    },
    {
      "cell_type": "code",
      "source": [
        "import pandas as pd\n",
        "\n",
        "labels = pd.read_csv('train.csv')\n",
        "submission = pd.read_csv('sample_submission.csv')"
      ],
      "metadata": {
        "id": "nnX858vkLEHr"
      },
      "execution_count": null,
      "outputs": []
    },
    {
      "cell_type": "code",
      "source": [
        "from zipfile import ZipFile\n",
        "\n",
        "# 훈련 이미지 데이터 압축 풀기\n",
        "with ZipFile('train.zip') as zipper:\n",
        "  zipper.extractall()\n",
        "\n",
        "# 테스트 이미지 데이터 압축 풀기\n",
        "with ZipFile('test.zip') as zipper:\n",
        "  zipper.extractall()"
      ],
      "metadata": {
        "id": "9pxHuHX3LGaW"
      },
      "execution_count": null,
      "outputs": []
    },
    {
      "cell_type": "markdown",
      "source": [
        "> 데이터분리"
      ],
      "metadata": {
        "id": "pXlsBS7CLJaT"
      }
    },
    {
      "cell_type": "code",
      "source": [
        "from sklearn.model_selection import train_test_split\n",
        "\n",
        "# 훈련 데이터, 검증 데이터 분리\n",
        "train, valid = train_test_split(labels, \n",
        "                                test_size=0.1,\n",
        "                                stratify=labels['has_cactus'],\n",
        "                                random_state=50)"
      ],
      "metadata": {
        "id": "j3HdEDi0LKgg"
      },
      "execution_count": null,
      "outputs": []
    },
    {
      "cell_type": "code",
      "source": [
        "print('훈련 데이터 개수 : ', len(train))\n",
        "print('검증 데이터 개수 : ', len(valid))"
      ],
      "metadata": {
        "colab": {
          "base_uri": "https://localhost:8080/"
        },
        "id": "DHJUE7KWLMIo",
        "outputId": "be2a62b0-32b7-4b61-81dc-a1e5c946206a"
      },
      "execution_count": null,
      "outputs": [
        {
          "output_type": "stream",
          "name": "stdout",
          "text": [
            "훈련 데이터 개수 :  15750\n",
            "검증 데이터 개수 :  1750\n"
          ]
        }
      ]
    },
    {
      "cell_type": "markdown",
      "source": [
        "> 데이터셋 클래스정의"
      ],
      "metadata": {
        "id": "6uPCBjvVLQar"
      }
    },
    {
      "cell_type": "code",
      "source": [
        "import cv2 # OpenCV 라이브러리\n",
        "from torch.utils.data import Dataset # 데이터 생성을 위한 클래스\n",
        "\n",
        "class ImageDataset(Dataset):\n",
        "    # 초기화 메서드(생성자)\n",
        "    def __init__(self, df, img_dir='./', transform=None):\n",
        "        super().__init__() # 상속받은 Dataset의 생성자 호출\n",
        "        # 전달받은 인수들 저장\n",
        "        self.df = df\n",
        "        self.img_dir = img_dir\n",
        "        self.transform = transform\n",
        "    \n",
        "    # 데이터셋 크기 반환 메서드 \n",
        "    def __len__(self):\n",
        "        return len(self.df)\n",
        "    \n",
        "    # 인덱스(idx)에 해당하는 데이터 반환 메서드 \n",
        "    def __getitem__(self, idx):\n",
        "        img_id = self.df.iloc[idx, 0]    # 이미지 ID\n",
        "        img_path = self.img_dir + img_id # 이미지 파일 경로 \n",
        "        image = cv2.imread(img_path)     # 이미지 파일 읽기 \n",
        "        image = cv2.cvtColor(image, cv2.COLOR_BGR2RGB) # 이미지 색상 보정\n",
        "        label = self.df.iloc[idx, 1]     # 이미지 레이블(타깃값)\n",
        "\n",
        "        if self.transform is not None:\n",
        "            image = self.transform(image) # 변환기가 있다면 이미지 변환\n",
        "        return image, label"
      ],
      "metadata": {
        "id": "QSmyRJvPLSZT"
      },
      "execution_count": null,
      "outputs": []
    },
    {
      "cell_type": "markdown",
      "source": [
        "> 데이터셋 생성"
      ],
      "metadata": {
        "id": "O7ST_NUlLVKg"
      }
    },
    {
      "cell_type": "code",
      "source": [
        "from torchvision import transforms # 이미지 변환을 위한 모듈\n",
        "\n",
        "# 훈련 데이터용 변환기\n",
        "transform_train = transforms.Compose([transforms.ToTensor(), # 1\n",
        "                                      transforms.Pad(32, padding_mode='symmetric'), # 2\n",
        "                                      transforms.RandomHorizontalFlip(), # 3\n",
        "                                      transforms.RandomVerticalFlip(), # 4\n",
        "                                      transforms.RandomRotation(10), # 5\n",
        "                                      transforms.Normalize((0.485, 0.456, 0.406), # 6\n",
        "                                                           (0.229, 0.224, 0.225))])\n",
        "\n",
        "# 검증 및 테스트 데이터용 변환기\n",
        "transform_test = transforms.Compose([transforms.ToTensor(),\n",
        "                                    transforms.Pad(32, padding_mode = 'symmetric'),\n",
        "                                    transforms.Normalize((0.485, 0.456, 0.406),  # 평균\n",
        "                                                          (0.229, 0.224, 0.225))]) # 분산"
      ],
      "metadata": {
        "id": "Nxk6_a7cLiLk"
      },
      "execution_count": null,
      "outputs": []
    },
    {
      "cell_type": "markdown",
      "source": [
        "transforms.Compose() 로 여러 변환기를 하나로 묶었다\n",
        "\n",
        "- 1번) transforms.ToTensor() : 이미지를 텐서 객체로 만든다. 이어 수행되는 다른 transforms 변환기들이 텐서 객체를 입력받기 때문이다\n",
        "\n",
        "- 2번) transforms.Pad() : 이미지 주변에 패딩을 추가한다. 여기서는 32를 전달했으니 원본이미지(32x32) 주변에 32두께의 패딩을 두른다. padding_mode ='symmetric' 은 상하좌우대칭이 되는 모양으로 만들어준다. 이를 위해 패딩을 32나 추가한 것\n",
        "\n",
        "- 3번) transforms.RandomHorizontalFilp(), transforms.RandomVericalFlip() : 각각 무작위로 이미지를 좌우, 상하대칭 변환한다. 기본값은 0.5로 전체 이미지 중 50%를 랜덤으로 뽑아 대칭변환한다\n",
        "\n",
        "- 4번) transforms.RandomRotation() : 이미지를 회전시킨다. 파라미터로 10을 전달하면 -10 ~ 10도 사이값 만큼 무작위로 회전한다\n",
        "\n",
        "- 5번) transforms.Normalize() : 데이터를 지정한 평균과 분산에 맞게 정규화시킨다. 0~1사이 값으로 정해준다. 평균과 분산이 세 개씩 있는 이유는 이미지데이터 색상은 RGB로 구성되있기에 각각을 정규화해야되서 평균과 분산에 값을 세 개씩 전달한 것이다\n",
        "\n",
        "위 평균과 분산 수치를 대체로 사용한다(실험결과성능 대체로 성능잘나옴)\n",
        "\n",
        "\n"
      ],
      "metadata": {
        "id": "FTQxWkyfMoWo"
      }
    },
    {
      "cell_type": "markdown",
      "source": [
        "> 데이터셋 및 로더 생성"
      ],
      "metadata": {
        "id": "jLzH7bP7Ny0p"
      }
    },
    {
      "cell_type": "code",
      "source": [
        "# 데이터셋\n",
        "dataset_train = ImageDataset(df=train, img_dir='train/', transform=transform_train)\n",
        "dataset_valid = ImageDataset(df=valid, img_dir='train/', transform=transform_test)"
      ],
      "metadata": {
        "id": "RHpdOZwRPmZP"
      },
      "execution_count": null,
      "outputs": []
    },
    {
      "cell_type": "code",
      "source": [
        "from torch.utils.data import DataLoader # 데이터 로더 클래스\n",
        "\n",
        "loader_train = DataLoader(dataset=dataset_train, batch_size=32, shuffle=True)\n",
        "loader_valid = DataLoader(dataset=dataset_valid, batch_size=32, shuffle=False)"
      ],
      "metadata": {
        "id": "w5P_zqL_QEzl"
      },
      "execution_count": null,
      "outputs": []
    },
    {
      "cell_type": "markdown",
      "source": [
        "앞서 데이터셋을 만들 때 이미지 변환기(transforms_train and _test)를 전달했다. 그러면 데이터로더로 데이터를 불러올 때마다 이미지 변환을 수행한다.\n",
        "\n",
        "이 때 변환기중 랜덤 변환기들은 무작위로 변환을 가하기 때문에 매번 다르게 변환한다. \n",
        "\n",
        "즉, 원본이미지는 같지만 첫 번째 에폭과 두 번째 에폭에서 서로다른 이미지로훈련하는 효과를 얻을 수 있다\n",
        "\n",
        "이것이 바로 데이터 증강 기법이다"
      ],
      "metadata": {
        "id": "anXc0jkCVeAk"
      }
    },
    {
      "cell_type": "markdown",
      "source": [
        "# 모델생성"
      ],
      "metadata": {
        "id": "mPnExPtNQaUq"
      }
    },
    {
      "cell_type": "markdown",
      "source": [
        "데이터가 준비되었으니 CNN 모델을 설계해보자\n",
        "\n",
        "베이스라인에는 합성곱과 최대풀링계층이 두 개씩이고 이어 평균풀링계층과 전결합계층이 하니씩 있는 구조다"
      ],
      "metadata": {
        "id": "xRziG7_uVbvy"
      }
    },
    {
      "cell_type": "markdown",
      "source": [
        "이번에는 더 깊은 CNN을 만들 차례다\n",
        "\n",
        "신경망 계층이 깊어지면 대체로 예측력이 좋아진다(지나치게 깊으면 과대적합)\n",
        "\n",
        "아울러 배치정규화를 적용하고 활성화함수를 Leaky ReLU로 바꿔서 성능을 더 높여보겠다"
      ],
      "metadata": {
        "id": "FCsFTKTuWS5H"
      }
    },
    {
      "cell_type": "markdown",
      "source": [
        "> 신경망 계층 설계"
      ],
      "metadata": {
        "id": "FKEQbyy1WoiF"
      }
    },
    {
      "cell_type": "code",
      "source": [
        "import torch.nn as nn # 신경망 모듈\n",
        "import torch.nn.functional as F # 신경망 모듈에서 자주 사용되는 함수\n",
        "\n",
        "class Model(nn.Module):\n",
        "    # 신경망 계층 정의\n",
        "    def __init__(self):\n",
        "        super().__init__() # 상속받은 nn.Module의 __init__() 메서드 호출\n",
        "        # 1 ~ 5번째 {합성곱, 배치 정규화, 최대 풀링} 계층 \n",
        "        self.layer1 = nn.Sequential(nn.Conv2d(in_channels=3, out_channels=32,\n",
        "                                              kernel_size=3, padding=2),\n",
        "                                    nn.BatchNorm2d(32), # 배치 정규화/ 파라미터로 채널수 전달\n",
        "                                    nn.LeakyReLU(), # LeakyReLU 활성화 함수\n",
        "                                    nn.MaxPool2d(kernel_size=2))\n",
        "\n",
        "        self.layer2 = nn.Sequential(nn.Conv2d(in_channels=32, out_channels=64,\n",
        "                                              kernel_size=3, padding=2),\n",
        "                                    nn.BatchNorm2d(64),\n",
        "                                    nn.LeakyReLU(),\n",
        "                                    nn.MaxPool2d(kernel_size=2))\n",
        "        \n",
        "        self.layer3 = nn.Sequential(nn.Conv2d(in_channels=64, out_channels=128,\n",
        "                                              kernel_size=3, padding=2),\n",
        "                                    nn.BatchNorm2d(128),\n",
        "                                    nn.LeakyReLU(),\n",
        "                                    nn.MaxPool2d(kernel_size=2))\n",
        "        \n",
        "        self.layer4 = nn.Sequential(nn.Conv2d(in_channels=128, out_channels=256,\n",
        "                                              kernel_size=3, padding=2),\n",
        "                                    nn.BatchNorm2d(256),\n",
        "                                    nn.LeakyReLU(),\n",
        "                                    nn.MaxPool2d(kernel_size=2))\n",
        "        \n",
        "        self.layer5 = nn.Sequential(nn.Conv2d(in_channels=256, out_channels=512,\n",
        "                                              kernel_size=3, padding=2),\n",
        "                                    nn.BatchNorm2d(512),\n",
        "                                    nn.LeakyReLU(),\n",
        "                                    nn.MaxPool2d(kernel_size=2))\n",
        "        # 평균 풀링 계층 \n",
        "        self.avg_pool = nn.AvgPool2d(kernel_size=4) \n",
        "        # 전결합 계층\n",
        "        self.fc1 = nn.Linear(in_features=512 * 1 * 1, out_features=64)\n",
        "        self.fc2 = nn.Linear(in_features=64, out_features=2)\n",
        "\n",
        "    # 순전파 출력 정의 \n",
        "    def forward(self, x):\n",
        "        x = self.layer1(x)\n",
        "        x = self.layer2(x)\n",
        "        x = self.layer3(x)\n",
        "        x = self.layer4(x)\n",
        "        x = self.layer5(x)\n",
        "        x = self.avg_pool(x)\n",
        "        x = x.view(-1, 512 * 1 * 1) # 평탄화\n",
        "        x = self.fc1(x)\n",
        "        x = self.fc2(x)\n",
        "        return x"
      ],
      "metadata": {
        "id": "feYpUyWkWu__"
      },
      "execution_count": null,
      "outputs": []
    },
    {
      "cell_type": "code",
      "source": [
        "model = Model().to(device)  # Model 클래스를 활용해 CNN 모델을 만든 뒤 장비에 할당"
      ],
      "metadata": {
        "id": "_iPEcsFLcG1q"
      },
      "execution_count": null,
      "outputs": []
    },
    {
      "cell_type": "markdown",
      "source": [
        "앞으로 model 은 이렇게 생각하자\n",
        "\n",
        "(GPU)신경망계층을 정의한 클래스"
      ],
      "metadata": {
        "id": "4siGJ4gSdQlt"
      }
    },
    {
      "cell_type": "markdown",
      "source": [
        "# 모델훈련"
      ],
      "metadata": {
        "id": "KXUnckzTdk_d"
      }
    },
    {
      "cell_type": "markdown",
      "source": [
        "베이스라인 때와 마찬가지로 손실함수와 옵티마이저를 설정한 후 훈련에 돌입"
      ],
      "metadata": {
        "id": "zTp3TXUUkeYC"
      }
    },
    {
      "cell_type": "markdown",
      "source": [
        "> 손실함수와 옵티마이저 설정"
      ],
      "metadata": {
        "id": "tKEqbWcZklS3"
      }
    },
    {
      "cell_type": "code",
      "source": [
        "# 손실함수\n",
        "criterion = nn.CrossEntropyLoss()"
      ],
      "metadata": {
        "id": "DAsJYJCiknhs"
      },
      "execution_count": null,
      "outputs": []
    },
    {
      "cell_type": "markdown",
      "source": [
        "옵티마이저는 adamax 를 사용 (어떤 옵티마이저가 좋은지 실험해봐야한다)"
      ],
      "metadata": {
        "id": "qO1xw9r-ktVr"
      }
    },
    {
      "cell_type": "code",
      "source": [
        "# 옵티마이저\n",
        "optimizer = torch.optim.Adamax(model.parameters(), lr=0.00006)"
      ],
      "metadata": {
        "id": "qgDl57Bck3ni"
      },
      "execution_count": null,
      "outputs": []
    },
    {
      "cell_type": "markdown",
      "source": [
        "> 모델 훈련"
      ],
      "metadata": {
        "id": "S4ubB151lCA6"
      }
    },
    {
      "cell_type": "code",
      "source": [
        "epochs = 70 # 총 에폭\n",
        "\n",
        "# 총 에폭만큼 반복\n",
        "for epoch in range(epochs):\n",
        "    epoch_loss = 0 # 에폭별 손실값 초기화\n",
        "    \n",
        "    # '반복 횟수'만큼 반복 \n",
        "    for images, labels in loader_train:\n",
        "        # 이미지, 레이블 데이터 미니배치를 장비에 할당 \n",
        "        images = images.to(device)\n",
        "        labels = labels.to(device)\n",
        "        \n",
        "        # 옵티마이저 내 기울기 초기화\n",
        "        optimizer.zero_grad()\n",
        "        # 순전파 : 이미지 데이터를 신경망 모델의 입력값으로 사용해 출력값 계산\n",
        "        outputs = model(images)\n",
        "        # 손실 함수를 활용해 outputs와 labels의 손실값 계산\n",
        "        loss = criterion(outputs, labels)\n",
        "        # 현재 배치에서의 손실 추가\n",
        "        epoch_loss += loss.item() \n",
        "        # 역전파 수행\n",
        "        loss.backward()\n",
        "        # 가중치 갱신\n",
        "        optimizer.step()\n",
        "        \n",
        "    print(f'에폭 [{epoch+1}/{epochs}] - 손실값: {epoch_loss/len(loader_train):.4f}')    \n"
      ],
      "metadata": {
        "colab": {
          "base_uri": "https://localhost:8080/"
        },
        "id": "epfaZoZklDnv",
        "outputId": "653d56df-2ebc-4bc5-cfb4-86a82b1a0a32"
      },
      "execution_count": null,
      "outputs": [
        {
          "output_type": "stream",
          "name": "stdout",
          "text": [
            "에폭 [1/70] - 손실값: 0.1287\n",
            "에폭 [2/70] - 손실값: 0.0657\n",
            "에폭 [3/70] - 손실값: 0.0480\n",
            "에폭 [4/70] - 손실값: 0.0416\n",
            "에폭 [5/70] - 손실값: 0.0337\n",
            "에폭 [6/70] - 손실값: 0.0346\n",
            "에폭 [7/70] - 손실값: 0.0314\n",
            "에폭 [8/70] - 손실값: 0.0270\n",
            "에폭 [9/70] - 손실값: 0.0251\n",
            "에폭 [10/70] - 손실값: 0.0260\n",
            "에폭 [11/70] - 손실값: 0.0228\n",
            "에폭 [12/70] - 손실값: 0.0228\n",
            "에폭 [13/70] - 손실값: 0.0195\n",
            "에폭 [14/70] - 손실값: 0.0206\n",
            "에폭 [15/70] - 손실값: 0.0200\n",
            "에폭 [16/70] - 손실값: 0.0172\n",
            "에폭 [17/70] - 손실값: 0.0158\n",
            "에폭 [18/70] - 손실값: 0.0171\n",
            "에폭 [19/70] - 손실값: 0.0164\n",
            "에폭 [20/70] - 손실값: 0.0162\n",
            "에폭 [21/70] - 손실값: 0.0137\n",
            "에폭 [22/70] - 손실값: 0.0147\n",
            "에폭 [23/70] - 손실값: 0.0125\n",
            "에폭 [24/70] - 손실값: 0.0117\n",
            "에폭 [25/70] - 손실값: 0.0135\n",
            "에폭 [26/70] - 손실값: 0.0113\n",
            "에폭 [27/70] - 손실값: 0.0123\n",
            "에폭 [28/70] - 손실값: 0.0127\n",
            "에폭 [29/70] - 손실값: 0.0114\n",
            "에폭 [30/70] - 손실값: 0.0111\n",
            "에폭 [31/70] - 손실값: 0.0096\n",
            "에폭 [32/70] - 손실값: 0.0097\n",
            "에폭 [33/70] - 손실값: 0.0100\n",
            "에폭 [34/70] - 손실값: 0.0100\n",
            "에폭 [35/70] - 손실값: 0.0091\n",
            "에폭 [36/70] - 손실값: 0.0097\n",
            "에폭 [37/70] - 손실값: 0.0074\n",
            "에폭 [38/70] - 손실값: 0.0074\n",
            "에폭 [39/70] - 손실값: 0.0069\n",
            "에폭 [40/70] - 손실값: 0.0102\n",
            "에폭 [41/70] - 손실값: 0.0071\n",
            "에폭 [42/70] - 손실값: 0.0096\n",
            "에폭 [43/70] - 손실값: 0.0077\n",
            "에폭 [44/70] - 손실값: 0.0076\n",
            "에폭 [45/70] - 손실값: 0.0071\n",
            "에폭 [46/70] - 손실값: 0.0061\n",
            "에폭 [47/70] - 손실값: 0.0055\n",
            "에폭 [48/70] - 손실값: 0.0066\n",
            "에폭 [49/70] - 손실값: 0.0053\n",
            "에폭 [50/70] - 손실값: 0.0057\n",
            "에폭 [51/70] - 손실값: 0.0037\n",
            "에폭 [52/70] - 손실값: 0.0077\n",
            "에폭 [53/70] - 손실값: 0.0065\n",
            "에폭 [54/70] - 손실값: 0.0058\n",
            "에폭 [55/70] - 손실값: 0.0055\n",
            "에폭 [56/70] - 손실값: 0.0058\n",
            "에폭 [57/70] - 손실값: 0.0051\n",
            "에폭 [58/70] - 손실값: 0.0058\n",
            "에폭 [59/70] - 손실값: 0.0069\n",
            "에폭 [60/70] - 손실값: 0.0048\n",
            "에폭 [61/70] - 손실값: 0.0039\n",
            "에폭 [62/70] - 손실값: 0.0040\n",
            "에폭 [63/70] - 손실값: 0.0045\n",
            "에폭 [64/70] - 손실값: 0.0041\n",
            "에폭 [65/70] - 손실값: 0.0048\n",
            "에폭 [66/70] - 손실값: 0.0062\n",
            "에폭 [67/70] - 손실값: 0.0037\n",
            "에폭 [68/70] - 손실값: 0.0051\n",
            "에폭 [69/70] - 손실값: 0.0038\n",
            "에폭 [70/70] - 손실값: 0.0034\n"
          ]
        }
      ]
    },
    {
      "cell_type": "markdown",
      "source": [
        "> 성능검증"
      ],
      "metadata": {
        "id": "PYTbY2jpsYm2"
      }
    },
    {
      "cell_type": "code",
      "source": [
        "from sklearn.metrics import roc_auc_score # ROC AUC 점수 계산 함수 임포트\n",
        "\n",
        "# 실제값과 예측 확률값을 담을 리스트 초기화\n",
        "true_list = []\n",
        "preds_list = []\n",
        "\n",
        "model.eval() # 모델을 평가 상태로 설정 \n",
        "\n",
        "with torch.no_grad(): # 기울기 계산 비활성화\n",
        "    for images, labels in loader_valid:\n",
        "        # 이미지, 레이블 데이터 미니배치를 장비에 할당 \n",
        "        images = images.to(device)\n",
        "        labels = labels.to(device)\n",
        "        \n",
        "        # 순전파 : 이미지 데이터를 신경망 모델의 입력값으로 사용해 출력값 계산\n",
        "        outputs = model(images)\n",
        "        preds = torch.softmax(outputs.cpu(), dim=1)[:, 1] # 예측 확률값\n",
        "        true = labels.cpu() # 실제값 \n",
        "        # 예측 확률값과 실제값을 리스트에 추가\n",
        "        preds_list.extend(preds)\n",
        "        true_list.extend(true)\n",
        "        \n",
        "# 검증 데이터 ROC AUC 점수 계산 \n",
        "print(f'검증 데이터 ROC AUC : {roc_auc_score(true_list, preds_list):.4f}')    "
      ],
      "metadata": {
        "colab": {
          "base_uri": "https://localhost:8080/"
        },
        "id": "HMgPaOmHsZf6",
        "outputId": "b7506f42-8fe2-4f6c-bd6a-36194ce9a575"
      },
      "execution_count": null,
      "outputs": [
        {
          "output_type": "stream",
          "name": "stdout",
          "text": [
            "검증 데이터 ROC AUC : 0.9998\n"
          ]
        }
      ]
    },
    {
      "cell_type": "markdown",
      "source": [
        "# 예측 및 결과 제출"
      ],
      "metadata": {
        "id": "xRFCjarSwdAm"
      }
    },
    {
      "cell_type": "code",
      "source": [
        "dataset_test = ImageDataset(df=submission, img_dir='test/', transform=transform_test)\n",
        "loader_test = DataLoader(dataset=dataset_test, batch_size=32, shuffle=False)\n",
        "\n",
        "model.eval() \n",
        "\n",
        "preds = []\n",
        "\n",
        "with torch.no_grad():\n",
        "  for images, _ loader_test:\n",
        "    images = images.to(device)\n",
        "\n",
        "    outputs = model(images)\n",
        "\n",
        "    preds_part = torch.softmax(outputs.cpu(), dim=1)[:,1].tolist()\n",
        "\n",
        "    preds.extend(preds.part)"
      ],
      "metadata": {
        "id": "NfHXO129whK3"
      },
      "execution_count": null,
      "outputs": []
    },
    {
      "cell_type": "code",
      "source": [
        "submission['has_cactus'] = preds\n",
        "submission.to_csv('cactus_sub.csv', index=False)"
      ],
      "metadata": {
        "id": "4JjO7H4gxLtT"
      },
      "execution_count": null,
      "outputs": []
    },
    {
      "cell_type": "code",
      "source": [
        "import shutil\n",
        "\n",
        "shutil.rmtree('./train')\n",
        "shutil.rmtree('./test')"
      ],
      "metadata": {
        "id": "hovO1OhcxYpX"
      },
      "execution_count": null,
      "outputs": []
    }
  ]
}